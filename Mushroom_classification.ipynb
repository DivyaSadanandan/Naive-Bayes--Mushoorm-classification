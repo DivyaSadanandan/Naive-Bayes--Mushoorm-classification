{
 "cells": [
  {
   "cell_type": "markdown",
   "metadata": {
    "id": "6yFNpslQx9IK"
   },
   "source": [
    "CASE STUDY - 11"
   ]
  },
  {
   "cell_type": "markdown",
   "metadata": {
    "id": "mKzv57pY4PRk"
   },
   "source": [
    "Case Study - Probability for Data Science\n",
    "\n",
    "Problem Statement: To make a suitable machine learning algorithm to predict if \n",
    "the mushroom is edible or poisonous (e or p) using the dataset- mushroom.csv \n",
    "(Along with other ML algorithms, Naïve Bayes’ Classifier is applied) \n",
    "with necessary data pre-processing . \n"
   ]
  },
  {
   "cell_type": "markdown",
   "metadata": {
    "id": "G2wIACIm4wYN"
   },
   "source": [
    "IMPORTING LIBRARIES"
   ]
  },
  {
   "cell_type": "code",
   "execution_count": 1,
   "metadata": {
    "id": "UHY2HIZx5l7k"
   },
   "outputs": [],
   "source": [
    "import pandas as pd\n",
    "import numpy as np\n",
    "import matplotlib.pyplot as plt\n",
    "import seaborn as sns \n"
   ]
  },
  {
   "cell_type": "markdown",
   "metadata": {
    "id": "rWfloZQh5vam"
   },
   "source": [
    "LOADING THE DATA"
   ]
  },
  {
   "cell_type": "code",
   "execution_count": 2,
   "metadata": {
    "id": "qnGYwEpWlKKm"
   },
   "outputs": [],
   "source": [
    "df = pd.read_csv(r'C:\\Users\\91944\\Desktop\\For GitHub\\Mushroom\\mushrooms.csv')"
   ]
  },
  {
   "cell_type": "code",
   "execution_count": 3,
   "metadata": {
    "colab": {
     "base_uri": "https://localhost:8080/",
     "height": 275
    },
    "id": "_LC3TyAplPox",
    "outputId": "2116ea82-16b8-4bb3-e375-7c3cd755c79b"
   },
   "outputs": [
    {
     "data": {
      "text/html": [
       "<div>\n",
       "<style scoped>\n",
       "    .dataframe tbody tr th:only-of-type {\n",
       "        vertical-align: middle;\n",
       "    }\n",
       "\n",
       "    .dataframe tbody tr th {\n",
       "        vertical-align: top;\n",
       "    }\n",
       "\n",
       "    .dataframe thead th {\n",
       "        text-align: right;\n",
       "    }\n",
       "</style>\n",
       "<table border=\"1\" class=\"dataframe\">\n",
       "  <thead>\n",
       "    <tr style=\"text-align: right;\">\n",
       "      <th></th>\n",
       "      <th>class</th>\n",
       "      <th>cap-shape</th>\n",
       "      <th>cap-surface</th>\n",
       "      <th>cap-color</th>\n",
       "      <th>bruises</th>\n",
       "      <th>odor</th>\n",
       "      <th>gill-attachment</th>\n",
       "      <th>gill-spacing</th>\n",
       "      <th>gill-size</th>\n",
       "      <th>gill-color</th>\n",
       "      <th>...</th>\n",
       "      <th>stalk-surface-below-ring</th>\n",
       "      <th>stalk-color-above-ring</th>\n",
       "      <th>stalk-color-below-ring</th>\n",
       "      <th>veil-type</th>\n",
       "      <th>veil-color</th>\n",
       "      <th>ring-number</th>\n",
       "      <th>ring-type</th>\n",
       "      <th>spore-print-color</th>\n",
       "      <th>population</th>\n",
       "      <th>habitat</th>\n",
       "    </tr>\n",
       "  </thead>\n",
       "  <tbody>\n",
       "    <tr>\n",
       "      <th>0</th>\n",
       "      <td>p</td>\n",
       "      <td>x</td>\n",
       "      <td>s</td>\n",
       "      <td>n</td>\n",
       "      <td>t</td>\n",
       "      <td>p</td>\n",
       "      <td>f</td>\n",
       "      <td>c</td>\n",
       "      <td>n</td>\n",
       "      <td>k</td>\n",
       "      <td>...</td>\n",
       "      <td>s</td>\n",
       "      <td>w</td>\n",
       "      <td>w</td>\n",
       "      <td>p</td>\n",
       "      <td>w</td>\n",
       "      <td>o</td>\n",
       "      <td>p</td>\n",
       "      <td>k</td>\n",
       "      <td>s</td>\n",
       "      <td>u</td>\n",
       "    </tr>\n",
       "    <tr>\n",
       "      <th>1</th>\n",
       "      <td>e</td>\n",
       "      <td>x</td>\n",
       "      <td>s</td>\n",
       "      <td>y</td>\n",
       "      <td>t</td>\n",
       "      <td>a</td>\n",
       "      <td>f</td>\n",
       "      <td>c</td>\n",
       "      <td>b</td>\n",
       "      <td>k</td>\n",
       "      <td>...</td>\n",
       "      <td>s</td>\n",
       "      <td>w</td>\n",
       "      <td>w</td>\n",
       "      <td>p</td>\n",
       "      <td>w</td>\n",
       "      <td>o</td>\n",
       "      <td>p</td>\n",
       "      <td>n</td>\n",
       "      <td>n</td>\n",
       "      <td>g</td>\n",
       "    </tr>\n",
       "    <tr>\n",
       "      <th>2</th>\n",
       "      <td>e</td>\n",
       "      <td>b</td>\n",
       "      <td>s</td>\n",
       "      <td>w</td>\n",
       "      <td>t</td>\n",
       "      <td>l</td>\n",
       "      <td>f</td>\n",
       "      <td>c</td>\n",
       "      <td>b</td>\n",
       "      <td>n</td>\n",
       "      <td>...</td>\n",
       "      <td>s</td>\n",
       "      <td>w</td>\n",
       "      <td>w</td>\n",
       "      <td>p</td>\n",
       "      <td>w</td>\n",
       "      <td>o</td>\n",
       "      <td>p</td>\n",
       "      <td>n</td>\n",
       "      <td>n</td>\n",
       "      <td>m</td>\n",
       "    </tr>\n",
       "    <tr>\n",
       "      <th>3</th>\n",
       "      <td>p</td>\n",
       "      <td>x</td>\n",
       "      <td>y</td>\n",
       "      <td>w</td>\n",
       "      <td>t</td>\n",
       "      <td>p</td>\n",
       "      <td>f</td>\n",
       "      <td>c</td>\n",
       "      <td>n</td>\n",
       "      <td>n</td>\n",
       "      <td>...</td>\n",
       "      <td>s</td>\n",
       "      <td>w</td>\n",
       "      <td>w</td>\n",
       "      <td>p</td>\n",
       "      <td>w</td>\n",
       "      <td>o</td>\n",
       "      <td>p</td>\n",
       "      <td>k</td>\n",
       "      <td>s</td>\n",
       "      <td>u</td>\n",
       "    </tr>\n",
       "    <tr>\n",
       "      <th>4</th>\n",
       "      <td>e</td>\n",
       "      <td>x</td>\n",
       "      <td>s</td>\n",
       "      <td>g</td>\n",
       "      <td>f</td>\n",
       "      <td>n</td>\n",
       "      <td>f</td>\n",
       "      <td>w</td>\n",
       "      <td>b</td>\n",
       "      <td>k</td>\n",
       "      <td>...</td>\n",
       "      <td>s</td>\n",
       "      <td>w</td>\n",
       "      <td>w</td>\n",
       "      <td>p</td>\n",
       "      <td>w</td>\n",
       "      <td>o</td>\n",
       "      <td>e</td>\n",
       "      <td>n</td>\n",
       "      <td>a</td>\n",
       "      <td>g</td>\n",
       "    </tr>\n",
       "  </tbody>\n",
       "</table>\n",
       "<p>5 rows × 23 columns</p>\n",
       "</div>"
      ],
      "text/plain": [
       "  class cap-shape cap-surface cap-color bruises odor gill-attachment  \\\n",
       "0     p         x           s         n       t    p               f   \n",
       "1     e         x           s         y       t    a               f   \n",
       "2     e         b           s         w       t    l               f   \n",
       "3     p         x           y         w       t    p               f   \n",
       "4     e         x           s         g       f    n               f   \n",
       "\n",
       "  gill-spacing gill-size gill-color  ... stalk-surface-below-ring  \\\n",
       "0            c         n          k  ...                        s   \n",
       "1            c         b          k  ...                        s   \n",
       "2            c         b          n  ...                        s   \n",
       "3            c         n          n  ...                        s   \n",
       "4            w         b          k  ...                        s   \n",
       "\n",
       "  stalk-color-above-ring stalk-color-below-ring veil-type veil-color  \\\n",
       "0                      w                      w         p          w   \n",
       "1                      w                      w         p          w   \n",
       "2                      w                      w         p          w   \n",
       "3                      w                      w         p          w   \n",
       "4                      w                      w         p          w   \n",
       "\n",
       "  ring-number ring-type spore-print-color population habitat  \n",
       "0           o         p                 k          s       u  \n",
       "1           o         p                 n          n       g  \n",
       "2           o         p                 n          n       m  \n",
       "3           o         p                 k          s       u  \n",
       "4           o         e                 n          a       g  \n",
       "\n",
       "[5 rows x 23 columns]"
      ]
     },
     "execution_count": 3,
     "metadata": {},
     "output_type": "execute_result"
    }
   ],
   "source": [
    "df.head()"
   ]
  },
  {
   "cell_type": "markdown",
   "metadata": {
    "id": "-AQhiQXs6MgQ"
   },
   "source": [
    "FEATURE DESCRIPTION"
   ]
  },
  {
   "cell_type": "code",
   "execution_count": 4,
   "metadata": {
    "colab": {
     "base_uri": "https://localhost:8080/"
    },
    "id": "m4VlmkRb6U9f",
    "outputId": "2c5ddf35-abb7-4b7b-d951-0fa06b912b3a"
   },
   "outputs": [
    {
     "data": {
      "text/plain": [
       "(8124, 23)"
      ]
     },
     "execution_count": 4,
     "metadata": {},
     "output_type": "execute_result"
    }
   ],
   "source": [
    "df.shape"
   ]
  },
  {
   "cell_type": "code",
   "execution_count": 5,
   "metadata": {
    "colab": {
     "base_uri": "https://localhost:8080/"
    },
    "id": "2MYt2tZO6ZUU",
    "outputId": "403d65e0-913d-4a86-f28b-8c101bb42cbe"
   },
   "outputs": [
    {
     "data": {
      "text/plain": [
       "class                        2\n",
       "cap-shape                    6\n",
       "cap-surface                  4\n",
       "cap-color                   10\n",
       "bruises                      2\n",
       "odor                         9\n",
       "gill-attachment              2\n",
       "gill-spacing                 2\n",
       "gill-size                    2\n",
       "gill-color                  12\n",
       "stalk-shape                  2\n",
       "stalk-root                   5\n",
       "stalk-surface-above-ring     4\n",
       "stalk-surface-below-ring     4\n",
       "stalk-color-above-ring       9\n",
       "stalk-color-below-ring       9\n",
       "veil-type                    1\n",
       "veil-color                   4\n",
       "ring-number                  3\n",
       "ring-type                    5\n",
       "spore-print-color            9\n",
       "population                   6\n",
       "habitat                      7\n",
       "dtype: int64"
      ]
     },
     "execution_count": 5,
     "metadata": {},
     "output_type": "execute_result"
    }
   ],
   "source": [
    "df.nunique()"
   ]
  },
  {
   "cell_type": "code",
   "execution_count": 6,
   "metadata": {
    "colab": {
     "base_uri": "https://localhost:8080/"
    },
    "id": "ZdnI_fl66bc4",
    "outputId": "69115924-69c1-4f1d-d97c-ab201d8b03cf"
   },
   "outputs": [
    {
     "name": "stdout",
     "output_type": "stream",
     "text": [
      "<class 'pandas.core.frame.DataFrame'>\n",
      "RangeIndex: 8124 entries, 0 to 8123\n",
      "Data columns (total 23 columns):\n",
      " #   Column                    Non-Null Count  Dtype \n",
      "---  ------                    --------------  ----- \n",
      " 0   class                     8124 non-null   object\n",
      " 1   cap-shape                 8124 non-null   object\n",
      " 2   cap-surface               8124 non-null   object\n",
      " 3   cap-color                 8124 non-null   object\n",
      " 4   bruises                   8124 non-null   object\n",
      " 5   odor                      8124 non-null   object\n",
      " 6   gill-attachment           8124 non-null   object\n",
      " 7   gill-spacing              8124 non-null   object\n",
      " 8   gill-size                 8124 non-null   object\n",
      " 9   gill-color                8124 non-null   object\n",
      " 10  stalk-shape               8124 non-null   object\n",
      " 11  stalk-root                8124 non-null   object\n",
      " 12  stalk-surface-above-ring  8124 non-null   object\n",
      " 13  stalk-surface-below-ring  8124 non-null   object\n",
      " 14  stalk-color-above-ring    8124 non-null   object\n",
      " 15  stalk-color-below-ring    8124 non-null   object\n",
      " 16  veil-type                 8124 non-null   object\n",
      " 17  veil-color                8124 non-null   object\n",
      " 18  ring-number               8124 non-null   object\n",
      " 19  ring-type                 8124 non-null   object\n",
      " 20  spore-print-color         8124 non-null   object\n",
      " 21  population                8124 non-null   object\n",
      " 22  habitat                   8124 non-null   object\n",
      "dtypes: object(23)\n",
      "memory usage: 1.4+ MB\n"
     ]
    }
   ],
   "source": [
    "df.info()"
   ]
  },
  {
   "cell_type": "markdown",
   "metadata": {
    "id": "webbRlE26j_U"
   },
   "source": [
    "CHECKING MISSING VALUES"
   ]
  },
  {
   "cell_type": "code",
   "execution_count": 7,
   "metadata": {
    "colab": {
     "base_uri": "https://localhost:8080/"
    },
    "id": "VRqGQbGC6q6N",
    "outputId": "88c72497-477f-4a14-c522-4f9a29386be8"
   },
   "outputs": [
    {
     "data": {
      "text/plain": [
       "class                       0\n",
       "cap-shape                   0\n",
       "cap-surface                 0\n",
       "cap-color                   0\n",
       "bruises                     0\n",
       "odor                        0\n",
       "gill-attachment             0\n",
       "gill-spacing                0\n",
       "gill-size                   0\n",
       "gill-color                  0\n",
       "stalk-shape                 0\n",
       "stalk-root                  0\n",
       "stalk-surface-above-ring    0\n",
       "stalk-surface-below-ring    0\n",
       "stalk-color-above-ring      0\n",
       "stalk-color-below-ring      0\n",
       "veil-type                   0\n",
       "veil-color                  0\n",
       "ring-number                 0\n",
       "ring-type                   0\n",
       "spore-print-color           0\n",
       "population                  0\n",
       "habitat                     0\n",
       "dtype: int64"
      ]
     },
     "execution_count": 7,
     "metadata": {},
     "output_type": "execute_result"
    }
   ],
   "source": [
    "df.isna().sum()"
   ]
  },
  {
   "cell_type": "markdown",
   "metadata": {
    "id": "iaznTU0p7BVt"
   },
   "source": [
    "There are no missing values"
   ]
  },
  {
   "cell_type": "code",
   "execution_count": 8,
   "metadata": {
    "colab": {
     "base_uri": "https://localhost:8080/"
    },
    "id": "zKLfotUT7EO1",
    "outputId": "6f260e62-749d-42ed-8de0-4993af5953c2"
   },
   "outputs": [
    {
     "data": {
      "text/plain": [
       "Index(['class', 'cap-shape', 'cap-surface', 'cap-color', 'bruises', 'odor',\n",
       "       'gill-attachment', 'gill-spacing', 'gill-size', 'gill-color',\n",
       "       'stalk-shape', 'stalk-root', 'stalk-surface-above-ring',\n",
       "       'stalk-surface-below-ring', 'stalk-color-above-ring',\n",
       "       'stalk-color-below-ring', 'veil-type', 'veil-color', 'ring-number',\n",
       "       'ring-type', 'spore-print-color', 'population', 'habitat'],\n",
       "      dtype='object')"
      ]
     },
     "execution_count": 8,
     "metadata": {},
     "output_type": "execute_result"
    }
   ],
   "source": [
    "df.columns"
   ]
  },
  {
   "cell_type": "markdown",
   "metadata": {
    "id": "4kDhuK46SDR6"
   },
   "source": [
    "DATA VISUALIZATION"
   ]
  },
  {
   "cell_type": "code",
   "execution_count": 9,
   "metadata": {
    "colab": {
     "base_uri": "https://localhost:8080/",
     "height": 336
    },
    "id": "X5HS7X1dRjkV",
    "outputId": "b27b39ba-17b9-48f5-b433-da505b6581d4"
   },
   "outputs": [
    {
     "data": {
      "image/png": "[encoded data removed]",
      "text/plain": [
       "<Figure size 720x360 with 1 Axes>"
      ]
     },
     "metadata": {
      "needs_background": "light"
     },
     "output_type": "display_data"
    }
   ],
   "source": [
    "# Histogram plotting the disribution of edible and poisonous mushrooms in the dataset\n",
    "df['class'].value_counts().plot.bar(figsize = (10,5), color = ['grey','red'])\n",
    "plt.xticks(rotation=0)\n",
    "plt.title('Quantity of edible and Poisonous mushrooms')\n",
    "plt.xticks()\n",
    "plt.yticks()\n",
    "plt.show()"
   ]
  },
  {
   "cell_type": "markdown",
   "metadata": {
    "id": "x_CpbhJwj7ND"
   },
   "source": [
    "p= poisonous mushroom                             \n",
    "e= edible mushroom"
   ]
  },
  {
   "cell_type": "markdown",
   "metadata": {
    "id": "XzXLwx337UKa"
   },
   "source": [
    "SPLITTING THE DATA TO FEATURE & TARGET"
   ]
  },
  {
   "cell_type": "code",
   "execution_count": 10,
   "metadata": {
    "id": "pDqzZxUc7WZI"
   },
   "outputs": [],
   "source": [
    "X= df.drop(['class'],axis=1)\n",
    "y= df['class']"
   ]
  },
  {
   "cell_type": "code",
   "execution_count": 11,
   "metadata": {
    "colab": {
     "base_uri": "https://localhost:8080/",
     "height": 275
    },
    "id": "w2Pmc2wz7dB3",
    "outputId": "fbddfc23-9fe8-4f81-af3e-f2ba24f5745b"
   },
   "outputs": [
    {
     "data": {
      "text/html": [
       "<div>\n",
       "<style scoped>\n",
       "    .dataframe tbody tr th:only-of-type {\n",
       "        vertical-align: middle;\n",
       "    }\n",
       "\n",
       "    .dataframe tbody tr th {\n",
       "        vertical-align: top;\n",
       "    }\n",
       "\n",
       "    .dataframe thead th {\n",
       "        text-align: right;\n",
       "    }\n",
       "</style>\n",
       "<table border=\"1\" class=\"dataframe\">\n",
       "  <thead>\n",
       "    <tr style=\"text-align: right;\">\n",
       "      <th></th>\n",
       "      <th>cap-shape</th>\n",
       "      <th>cap-surface</th>\n",
       "      <th>cap-color</th>\n",
       "      <th>bruises</th>\n",
       "      <th>odor</th>\n",
       "      <th>gill-attachment</th>\n",
       "      <th>gill-spacing</th>\n",
       "      <th>gill-size</th>\n",
       "      <th>gill-color</th>\n",
       "      <th>stalk-shape</th>\n",
       "      <th>...</th>\n",
       "      <th>stalk-surface-below-ring</th>\n",
       "      <th>stalk-color-above-ring</th>\n",
       "      <th>stalk-color-below-ring</th>\n",
       "      <th>veil-type</th>\n",
       "      <th>veil-color</th>\n",
       "      <th>ring-number</th>\n",
       "      <th>ring-type</th>\n",
       "      <th>spore-print-color</th>\n",
       "      <th>population</th>\n",
       "      <th>habitat</th>\n",
       "    </tr>\n",
       "  </thead>\n",
       "  <tbody>\n",
       "    <tr>\n",
       "      <th>0</th>\n",
       "      <td>x</td>\n",
       "      <td>s</td>\n",
       "      <td>n</td>\n",
       "      <td>t</td>\n",
       "      <td>p</td>\n",
       "      <td>f</td>\n",
       "      <td>c</td>\n",
       "      <td>n</td>\n",
       "      <td>k</td>\n",
       "      <td>e</td>\n",
       "      <td>...</td>\n",
       "      <td>s</td>\n",
       "      <td>w</td>\n",
       "      <td>w</td>\n",
       "      <td>p</td>\n",
       "      <td>w</td>\n",
       "      <td>o</td>\n",
       "      <td>p</td>\n",
       "      <td>k</td>\n",
       "      <td>s</td>\n",
       "      <td>u</td>\n",
       "    </tr>\n",
       "    <tr>\n",
       "      <th>1</th>\n",
       "      <td>x</td>\n",
       "      <td>s</td>\n",
       "      <td>y</td>\n",
       "      <td>t</td>\n",
       "      <td>a</td>\n",
       "      <td>f</td>\n",
       "      <td>c</td>\n",
       "      <td>b</td>\n",
       "      <td>k</td>\n",
       "      <td>e</td>\n",
       "      <td>...</td>\n",
       "      <td>s</td>\n",
       "      <td>w</td>\n",
       "      <td>w</td>\n",
       "      <td>p</td>\n",
       "      <td>w</td>\n",
       "      <td>o</td>\n",
       "      <td>p</td>\n",
       "      <td>n</td>\n",
       "      <td>n</td>\n",
       "      <td>g</td>\n",
       "    </tr>\n",
       "    <tr>\n",
       "      <th>2</th>\n",
       "      <td>b</td>\n",
       "      <td>s</td>\n",
       "      <td>w</td>\n",
       "      <td>t</td>\n",
       "      <td>l</td>\n",
       "      <td>f</td>\n",
       "      <td>c</td>\n",
       "      <td>b</td>\n",
       "      <td>n</td>\n",
       "      <td>e</td>\n",
       "      <td>...</td>\n",
       "      <td>s</td>\n",
       "      <td>w</td>\n",
       "      <td>w</td>\n",
       "      <td>p</td>\n",
       "      <td>w</td>\n",
       "      <td>o</td>\n",
       "      <td>p</td>\n",
       "      <td>n</td>\n",
       "      <td>n</td>\n",
       "      <td>m</td>\n",
       "    </tr>\n",
       "    <tr>\n",
       "      <th>3</th>\n",
       "      <td>x</td>\n",
       "      <td>y</td>\n",
       "      <td>w</td>\n",
       "      <td>t</td>\n",
       "      <td>p</td>\n",
       "      <td>f</td>\n",
       "      <td>c</td>\n",
       "      <td>n</td>\n",
       "      <td>n</td>\n",
       "      <td>e</td>\n",
       "      <td>...</td>\n",
       "      <td>s</td>\n",
       "      <td>w</td>\n",
       "      <td>w</td>\n",
       "      <td>p</td>\n",
       "      <td>w</td>\n",
       "      <td>o</td>\n",
       "      <td>p</td>\n",
       "      <td>k</td>\n",
       "      <td>s</td>\n",
       "      <td>u</td>\n",
       "    </tr>\n",
       "    <tr>\n",
       "      <th>4</th>\n",
       "      <td>x</td>\n",
       "      <td>s</td>\n",
       "      <td>g</td>\n",
       "      <td>f</td>\n",
       "      <td>n</td>\n",
       "      <td>f</td>\n",
       "      <td>w</td>\n",
       "      <td>b</td>\n",
       "      <td>k</td>\n",
       "      <td>t</td>\n",
       "      <td>...</td>\n",
       "      <td>s</td>\n",
       "      <td>w</td>\n",
       "      <td>w</td>\n",
       "      <td>p</td>\n",
       "      <td>w</td>\n",
       "      <td>o</td>\n",
       "      <td>e</td>\n",
       "      <td>n</td>\n",
       "      <td>a</td>\n",
       "      <td>g</td>\n",
       "    </tr>\n",
       "  </tbody>\n",
       "</table>\n",
       "<p>5 rows × 22 columns</p>\n",
       "</div>"
      ],
      "text/plain": [
       "  cap-shape cap-surface cap-color bruises odor gill-attachment gill-spacing  \\\n",
       "0         x           s         n       t    p               f            c   \n",
       "1         x           s         y       t    a               f            c   \n",
       "2         b           s         w       t    l               f            c   \n",
       "3         x           y         w       t    p               f            c   \n",
       "4         x           s         g       f    n               f            w   \n",
       "\n",
       "  gill-size gill-color stalk-shape  ... stalk-surface-below-ring  \\\n",
       "0         n          k           e  ...                        s   \n",
       "1         b          k           e  ...                        s   \n",
       "2         b          n           e  ...                        s   \n",
       "3         n          n           e  ...                        s   \n",
       "4         b          k           t  ...                        s   \n",
       "\n",
       "  stalk-color-above-ring stalk-color-below-ring veil-type veil-color  \\\n",
       "0                      w                      w         p          w   \n",
       "1                      w                      w         p          w   \n",
       "2                      w                      w         p          w   \n",
       "3                      w                      w         p          w   \n",
       "4                      w                      w         p          w   \n",
       "\n",
       "  ring-number ring-type spore-print-color population habitat  \n",
       "0           o         p                 k          s       u  \n",
       "1           o         p                 n          n       g  \n",
       "2           o         p                 n          n       m  \n",
       "3           o         p                 k          s       u  \n",
       "4           o         e                 n          a       g  \n",
       "\n",
       "[5 rows x 22 columns]"
      ]
     },
     "execution_count": 11,
     "metadata": {},
     "output_type": "execute_result"
    }
   ],
   "source": [
    "X.head()"
   ]
  },
  {
   "cell_type": "markdown",
   "metadata": {
    "id": "uYdnx-SK7tfg"
   },
   "source": [
    "DATA PREPROCESSING\n",
    "\n",
    "Here the dataset consits of categorical data which needs to be converted to numerical data.\n",
    "\n",
    "Applying one hot encoding to the features(X) since the values are nominal.\n",
    "\n",
    "One Hot Encoding:"
   ]
  },
  {
   "cell_type": "code",
   "execution_count": 12,
   "metadata": {
    "colab": {
     "base_uri": "https://localhost:8080/",
     "height": 304
    },
    "id": "2eD3ziRZ742Z",
    "outputId": "4bc44b39-670e-4255-d677-edc66461140d"
   },
   "outputs": [
    {
     "data": {
      "text/html": [
       "<div>\n",
       "<style scoped>\n",
       "    .dataframe tbody tr th:only-of-type {\n",
       "        vertical-align: middle;\n",
       "    }\n",
       "\n",
       "    .dataframe tbody tr th {\n",
       "        vertical-align: top;\n",
       "    }\n",
       "\n",
       "    .dataframe thead th {\n",
       "        text-align: right;\n",
       "    }\n",
       "</style>\n",
       "<table border=\"1\" class=\"dataframe\">\n",
       "  <thead>\n",
       "    <tr style=\"text-align: right;\">\n",
       "      <th></th>\n",
       "      <th>cap-shape_b</th>\n",
       "      <th>cap-shape_c</th>\n",
       "      <th>cap-shape_f</th>\n",
       "      <th>cap-shape_k</th>\n",
       "      <th>cap-shape_s</th>\n",
       "      <th>cap-shape_x</th>\n",
       "      <th>cap-surface_f</th>\n",
       "      <th>cap-surface_g</th>\n",
       "      <th>cap-surface_s</th>\n",
       "      <th>cap-surface_y</th>\n",
       "      <th>...</th>\n",
       "      <th>population_s</th>\n",
       "      <th>population_v</th>\n",
       "      <th>population_y</th>\n",
       "      <th>habitat_d</th>\n",
       "      <th>habitat_g</th>\n",
       "      <th>habitat_l</th>\n",
       "      <th>habitat_m</th>\n",
       "      <th>habitat_p</th>\n",
       "      <th>habitat_u</th>\n",
       "      <th>habitat_w</th>\n",
       "    </tr>\n",
       "  </thead>\n",
       "  <tbody>\n",
       "    <tr>\n",
       "      <th>0</th>\n",
       "      <td>0</td>\n",
       "      <td>0</td>\n",
       "      <td>0</td>\n",
       "      <td>0</td>\n",
       "      <td>0</td>\n",
       "      <td>1</td>\n",
       "      <td>0</td>\n",
       "      <td>0</td>\n",
       "      <td>1</td>\n",
       "      <td>0</td>\n",
       "      <td>...</td>\n",
       "      <td>1</td>\n",
       "      <td>0</td>\n",
       "      <td>0</td>\n",
       "      <td>0</td>\n",
       "      <td>0</td>\n",
       "      <td>0</td>\n",
       "      <td>0</td>\n",
       "      <td>0</td>\n",
       "      <td>1</td>\n",
       "      <td>0</td>\n",
       "    </tr>\n",
       "    <tr>\n",
       "      <th>1</th>\n",
       "      <td>0</td>\n",
       "      <td>0</td>\n",
       "      <td>0</td>\n",
       "      <td>0</td>\n",
       "      <td>0</td>\n",
       "      <td>1</td>\n",
       "      <td>0</td>\n",
       "      <td>0</td>\n",
       "      <td>1</td>\n",
       "      <td>0</td>\n",
       "      <td>...</td>\n",
       "      <td>0</td>\n",
       "      <td>0</td>\n",
       "      <td>0</td>\n",
       "      <td>0</td>\n",
       "      <td>1</td>\n",
       "      <td>0</td>\n",
       "      <td>0</td>\n",
       "      <td>0</td>\n",
       "      <td>0</td>\n",
       "      <td>0</td>\n",
       "    </tr>\n",
       "    <tr>\n",
       "      <th>2</th>\n",
       "      <td>1</td>\n",
       "      <td>0</td>\n",
       "      <td>0</td>\n",
       "      <td>0</td>\n",
       "      <td>0</td>\n",
       "      <td>0</td>\n",
       "      <td>0</td>\n",
       "      <td>0</td>\n",
       "      <td>1</td>\n",
       "      <td>0</td>\n",
       "      <td>...</td>\n",
       "      <td>0</td>\n",
       "      <td>0</td>\n",
       "      <td>0</td>\n",
       "      <td>0</td>\n",
       "      <td>0</td>\n",
       "      <td>0</td>\n",
       "      <td>1</td>\n",
       "      <td>0</td>\n",
       "      <td>0</td>\n",
       "      <td>0</td>\n",
       "    </tr>\n",
       "    <tr>\n",
       "      <th>3</th>\n",
       "      <td>0</td>\n",
       "      <td>0</td>\n",
       "      <td>0</td>\n",
       "      <td>0</td>\n",
       "      <td>0</td>\n",
       "      <td>1</td>\n",
       "      <td>0</td>\n",
       "      <td>0</td>\n",
       "      <td>0</td>\n",
       "      <td>1</td>\n",
       "      <td>...</td>\n",
       "      <td>1</td>\n",
       "      <td>0</td>\n",
       "      <td>0</td>\n",
       "      <td>0</td>\n",
       "      <td>0</td>\n",
       "      <td>0</td>\n",
       "      <td>0</td>\n",
       "      <td>0</td>\n",
       "      <td>1</td>\n",
       "      <td>0</td>\n",
       "    </tr>\n",
       "    <tr>\n",
       "      <th>4</th>\n",
       "      <td>0</td>\n",
       "      <td>0</td>\n",
       "      <td>0</td>\n",
       "      <td>0</td>\n",
       "      <td>0</td>\n",
       "      <td>1</td>\n",
       "      <td>0</td>\n",
       "      <td>0</td>\n",
       "      <td>1</td>\n",
       "      <td>0</td>\n",
       "      <td>...</td>\n",
       "      <td>0</td>\n",
       "      <td>0</td>\n",
       "      <td>0</td>\n",
       "      <td>0</td>\n",
       "      <td>1</td>\n",
       "      <td>0</td>\n",
       "      <td>0</td>\n",
       "      <td>0</td>\n",
       "      <td>0</td>\n",
       "      <td>0</td>\n",
       "    </tr>\n",
       "  </tbody>\n",
       "</table>\n",
       "<p>5 rows × 117 columns</p>\n",
       "</div>"
      ],
      "text/plain": [
       "   cap-shape_b  cap-shape_c  cap-shape_f  cap-shape_k  cap-shape_s  \\\n",
       "0            0            0            0            0            0   \n",
       "1            0            0            0            0            0   \n",
       "2            1            0            0            0            0   \n",
       "3            0            0            0            0            0   \n",
       "4            0            0            0            0            0   \n",
       "\n",
       "   cap-shape_x  cap-surface_f  cap-surface_g  cap-surface_s  cap-surface_y  \\\n",
       "0            1              0              0              1              0   \n",
       "1            1              0              0              1              0   \n",
       "2            0              0              0              1              0   \n",
       "3            1              0              0              0              1   \n",
       "4            1              0              0              1              0   \n",
       "\n",
       "   ...  population_s  population_v  population_y  habitat_d  habitat_g  \\\n",
       "0  ...             1             0             0          0          0   \n",
       "1  ...             0             0             0          0          1   \n",
       "2  ...             0             0             0          0          0   \n",
       "3  ...             1             0             0          0          0   \n",
       "4  ...             0             0             0          0          1   \n",
       "\n",
       "   habitat_l  habitat_m  habitat_p  habitat_u  habitat_w  \n",
       "0          0          0          0          1          0  \n",
       "1          0          0          0          0          0  \n",
       "2          0          1          0          0          0  \n",
       "3          0          0          0          1          0  \n",
       "4          0          0          0          0          0  \n",
       "\n",
       "[5 rows x 117 columns]"
      ]
     },
     "execution_count": 12,
     "metadata": {},
     "output_type": "execute_result"
    }
   ],
   "source": [
    "X=pd.get_dummies(X) \n",
    "X.head()"
   ]
  },
  {
   "cell_type": "markdown",
   "metadata": {
    "id": "Vfjx9mHp9MxN"
   },
   "source": [
    "Applying Standard Scaling on features"
   ]
  },
  {
   "cell_type": "code",
   "execution_count": 13,
   "metadata": {
    "colab": {
     "base_uri": "https://localhost:8080/",
     "height": 431
    },
    "id": "1kUL_ar09Njs",
    "outputId": "6d0944f4-e0cf-4e0e-d235-87174865deeb"
   },
   "outputs": [
    {
     "data": {
      "text/html": [
       "<div>\n",
       "<style scoped>\n",
       "    .dataframe tbody tr th:only-of-type {\n",
       "        vertical-align: middle;\n",
       "    }\n",
       "\n",
       "    .dataframe tbody tr th {\n",
       "        vertical-align: top;\n",
       "    }\n",
       "\n",
       "    .dataframe thead th {\n",
       "        text-align: right;\n",
       "    }\n",
       "</style>\n",
       "<table border=\"1\" class=\"dataframe\">\n",
       "  <thead>\n",
       "    <tr style=\"text-align: right;\">\n",
       "      <th></th>\n",
       "      <th>0</th>\n",
       "      <th>1</th>\n",
       "      <th>2</th>\n",
       "      <th>3</th>\n",
       "      <th>4</th>\n",
       "      <th>5</th>\n",
       "      <th>6</th>\n",
       "      <th>7</th>\n",
       "      <th>8</th>\n",
       "      <th>9</th>\n",
       "      <th>...</th>\n",
       "      <th>107</th>\n",
       "      <th>108</th>\n",
       "      <th>109</th>\n",
       "      <th>110</th>\n",
       "      <th>111</th>\n",
       "      <th>112</th>\n",
       "      <th>113</th>\n",
       "      <th>114</th>\n",
       "      <th>115</th>\n",
       "      <th>116</th>\n",
       "    </tr>\n",
       "  </thead>\n",
       "  <tbody>\n",
       "    <tr>\n",
       "      <th>count</th>\n",
       "      <td>8.124000e+03</td>\n",
       "      <td>8.124000e+03</td>\n",
       "      <td>8.124000e+03</td>\n",
       "      <td>8.124000e+03</td>\n",
       "      <td>8.124000e+03</td>\n",
       "      <td>8.124000e+03</td>\n",
       "      <td>8.124000e+03</td>\n",
       "      <td>8.124000e+03</td>\n",
       "      <td>8.124000e+03</td>\n",
       "      <td>8.124000e+03</td>\n",
       "      <td>...</td>\n",
       "      <td>8.124000e+03</td>\n",
       "      <td>8.124000e+03</td>\n",
       "      <td>8.124000e+03</td>\n",
       "      <td>8.124000e+03</td>\n",
       "      <td>8.124000e+03</td>\n",
       "      <td>8.124000e+03</td>\n",
       "      <td>8.124000e+03</td>\n",
       "      <td>8.124000e+03</td>\n",
       "      <td>8.124000e+03</td>\n",
       "      <td>8.124000e+03</td>\n",
       "    </tr>\n",
       "    <tr>\n",
       "      <th>mean</th>\n",
       "      <td>-7.070921e-15</td>\n",
       "      <td>2.037832e-15</td>\n",
       "      <td>1.264433e-14</td>\n",
       "      <td>-6.687966e-15</td>\n",
       "      <td>-5.169001e-15</td>\n",
       "      <td>-6.764653e-16</td>\n",
       "      <td>8.706313e-15</td>\n",
       "      <td>1.393666e-15</td>\n",
       "      <td>1.902803e-14</td>\n",
       "      <td>-5.463776e-15</td>\n",
       "      <td>...</td>\n",
       "      <td>1.947251e-14</td>\n",
       "      <td>8.723942e-16</td>\n",
       "      <td>-1.261664e-14</td>\n",
       "      <td>-2.651878e-14</td>\n",
       "      <td>5.804537e-15</td>\n",
       "      <td>7.013592e-15</td>\n",
       "      <td>-1.310780e-14</td>\n",
       "      <td>-1.259923e-14</td>\n",
       "      <td>-1.837478e-15</td>\n",
       "      <td>-1.045247e-14</td>\n",
       "    </tr>\n",
       "    <tr>\n",
       "      <th>std</th>\n",
       "      <td>1.000062e+00</td>\n",
       "      <td>1.000062e+00</td>\n",
       "      <td>1.000062e+00</td>\n",
       "      <td>1.000062e+00</td>\n",
       "      <td>1.000062e+00</td>\n",
       "      <td>1.000062e+00</td>\n",
       "      <td>1.000062e+00</td>\n",
       "      <td>1.000062e+00</td>\n",
       "      <td>1.000062e+00</td>\n",
       "      <td>1.000062e+00</td>\n",
       "      <td>...</td>\n",
       "      <td>1.000062e+00</td>\n",
       "      <td>1.000062e+00</td>\n",
       "      <td>1.000062e+00</td>\n",
       "      <td>1.000062e+00</td>\n",
       "      <td>1.000062e+00</td>\n",
       "      <td>1.000062e+00</td>\n",
       "      <td>1.000062e+00</td>\n",
       "      <td>1.000062e+00</td>\n",
       "      <td>1.000062e+00</td>\n",
       "      <td>1.000062e+00</td>\n",
       "    </tr>\n",
       "    <tr>\n",
       "      <th>min</th>\n",
       "      <td>-2.427252e-01</td>\n",
       "      <td>-2.219484e-02</td>\n",
       "      <td>-7.962098e-01</td>\n",
       "      <td>-3.368781e-01</td>\n",
       "      <td>-6.288500e-02</td>\n",
       "      <td>-9.045790e-01</td>\n",
       "      <td>-6.322376e-01</td>\n",
       "      <td>-2.219484e-02</td>\n",
       "      <td>-6.775336e-01</td>\n",
       "      <td>-8.153245e-01</td>\n",
       "      <td>...</td>\n",
       "      <td>-4.260292e-01</td>\n",
       "      <td>-9.945985e-01</td>\n",
       "      <td>-5.167198e-01</td>\n",
       "      <td>-7.953846e-01</td>\n",
       "      <td>-5.995313e-01</td>\n",
       "      <td>-3.377834e-01</td>\n",
       "      <td>-1.930879e-01</td>\n",
       "      <td>-4.048418e-01</td>\n",
       "      <td>-2.178236e-01</td>\n",
       "      <td>-1.555820e-01</td>\n",
       "    </tr>\n",
       "    <tr>\n",
       "      <th>25%</th>\n",
       "      <td>-2.427252e-01</td>\n",
       "      <td>-2.219484e-02</td>\n",
       "      <td>-7.962098e-01</td>\n",
       "      <td>-3.368781e-01</td>\n",
       "      <td>-6.288500e-02</td>\n",
       "      <td>-9.045790e-01</td>\n",
       "      <td>-6.322376e-01</td>\n",
       "      <td>-2.219484e-02</td>\n",
       "      <td>-6.775336e-01</td>\n",
       "      <td>-8.153245e-01</td>\n",
       "      <td>...</td>\n",
       "      <td>-4.260292e-01</td>\n",
       "      <td>-9.945985e-01</td>\n",
       "      <td>-5.167198e-01</td>\n",
       "      <td>-7.953846e-01</td>\n",
       "      <td>-5.995313e-01</td>\n",
       "      <td>-3.377834e-01</td>\n",
       "      <td>-1.930879e-01</td>\n",
       "      <td>-4.048418e-01</td>\n",
       "      <td>-2.178236e-01</td>\n",
       "      <td>-1.555820e-01</td>\n",
       "    </tr>\n",
       "    <tr>\n",
       "      <th>50%</th>\n",
       "      <td>-2.427252e-01</td>\n",
       "      <td>-2.219484e-02</td>\n",
       "      <td>-7.962098e-01</td>\n",
       "      <td>-3.368781e-01</td>\n",
       "      <td>-6.288500e-02</td>\n",
       "      <td>-9.045790e-01</td>\n",
       "      <td>-6.322376e-01</td>\n",
       "      <td>-2.219484e-02</td>\n",
       "      <td>-6.775336e-01</td>\n",
       "      <td>-8.153245e-01</td>\n",
       "      <td>...</td>\n",
       "      <td>-4.260292e-01</td>\n",
       "      <td>-9.945985e-01</td>\n",
       "      <td>-5.167198e-01</td>\n",
       "      <td>-7.953846e-01</td>\n",
       "      <td>-5.995313e-01</td>\n",
       "      <td>-3.377834e-01</td>\n",
       "      <td>-1.930879e-01</td>\n",
       "      <td>-4.048418e-01</td>\n",
       "      <td>-2.178236e-01</td>\n",
       "      <td>-1.555820e-01</td>\n",
       "    </tr>\n",
       "    <tr>\n",
       "      <th>75%</th>\n",
       "      <td>-2.427252e-01</td>\n",
       "      <td>-2.219484e-02</td>\n",
       "      <td>1.255950e+00</td>\n",
       "      <td>-3.368781e-01</td>\n",
       "      <td>-6.288500e-02</td>\n",
       "      <td>1.105487e+00</td>\n",
       "      <td>1.581684e+00</td>\n",
       "      <td>-2.219484e-02</td>\n",
       "      <td>1.475942e+00</td>\n",
       "      <td>1.226505e+00</td>\n",
       "      <td>...</td>\n",
       "      <td>-4.260292e-01</td>\n",
       "      <td>1.005431e+00</td>\n",
       "      <td>-5.167198e-01</td>\n",
       "      <td>1.257253e+00</td>\n",
       "      <td>1.667970e+00</td>\n",
       "      <td>-3.377834e-01</td>\n",
       "      <td>-1.930879e-01</td>\n",
       "      <td>-4.048418e-01</td>\n",
       "      <td>-2.178236e-01</td>\n",
       "      <td>-1.555820e-01</td>\n",
       "    </tr>\n",
       "    <tr>\n",
       "      <th>max</th>\n",
       "      <td>4.119885e+00</td>\n",
       "      <td>4.505552e+01</td>\n",
       "      <td>1.255950e+00</td>\n",
       "      <td>2.968433e+00</td>\n",
       "      <td>1.590204e+01</td>\n",
       "      <td>1.105487e+00</td>\n",
       "      <td>1.581684e+00</td>\n",
       "      <td>4.505552e+01</td>\n",
       "      <td>1.475942e+00</td>\n",
       "      <td>1.226505e+00</td>\n",
       "      <td>...</td>\n",
       "      <td>2.347257e+00</td>\n",
       "      <td>1.005431e+00</td>\n",
       "      <td>1.935285e+00</td>\n",
       "      <td>1.257253e+00</td>\n",
       "      <td>1.667970e+00</td>\n",
       "      <td>2.960477e+00</td>\n",
       "      <td>5.178988e+00</td>\n",
       "      <td>2.470101e+00</td>\n",
       "      <td>4.590870e+00</td>\n",
       "      <td>6.427480e+00</td>\n",
       "    </tr>\n",
       "  </tbody>\n",
       "</table>\n",
       "<p>8 rows × 117 columns</p>\n",
       "</div>"
      ],
      "text/plain": [
       "                0             1             2             3             4    \\\n",
       "count  8.124000e+03  8.124000e+03  8.124000e+03  8.124000e+03  8.124000e+03   \n",
       "mean  -7.070921e-15  2.037832e-15  1.264433e-14 -6.687966e-15 -5.169001e-15   \n",
       "std    1.000062e+00  1.000062e+00  1.000062e+00  1.000062e+00  1.000062e+00   \n",
       "min   -2.427252e-01 -2.219484e-02 -7.962098e-01 -3.368781e-01 -6.288500e-02   \n",
       "25%   -2.427252e-01 -2.219484e-02 -7.962098e-01 -3.368781e-01 -6.288500e-02   \n",
       "50%   -2.427252e-01 -2.219484e-02 -7.962098e-01 -3.368781e-01 -6.288500e-02   \n",
       "75%   -2.427252e-01 -2.219484e-02  1.255950e+00 -3.368781e-01 -6.288500e-02   \n",
       "max    4.119885e+00  4.505552e+01  1.255950e+00  2.968433e+00  1.590204e+01   \n",
       "\n",
       "                5             6             7             8             9    \\\n",
       "count  8.124000e+03  8.124000e+03  8.124000e+03  8.124000e+03  8.124000e+03   \n",
       "mean  -6.764653e-16  8.706313e-15  1.393666e-15  1.902803e-14 -5.463776e-15   \n",
       "std    1.000062e+00  1.000062e+00  1.000062e+00  1.000062e+00  1.000062e+00   \n",
       "min   -9.045790e-01 -6.322376e-01 -2.219484e-02 -6.775336e-01 -8.153245e-01   \n",
       "25%   -9.045790e-01 -6.322376e-01 -2.219484e-02 -6.775336e-01 -8.153245e-01   \n",
       "50%   -9.045790e-01 -6.322376e-01 -2.219484e-02 -6.775336e-01 -8.153245e-01   \n",
       "75%    1.105487e+00  1.581684e+00 -2.219484e-02  1.475942e+00  1.226505e+00   \n",
       "max    1.105487e+00  1.581684e+00  4.505552e+01  1.475942e+00  1.226505e+00   \n",
       "\n",
       "       ...           107           108           109           110  \\\n",
       "count  ...  8.124000e+03  8.124000e+03  8.124000e+03  8.124000e+03   \n",
       "mean   ...  1.947251e-14  8.723942e-16 -1.261664e-14 -2.651878e-14   \n",
       "std    ...  1.000062e+00  1.000062e+00  1.000062e+00  1.000062e+00   \n",
       "min    ... -4.260292e-01 -9.945985e-01 -5.167198e-01 -7.953846e-01   \n",
       "25%    ... -4.260292e-01 -9.945985e-01 -5.167198e-01 -7.953846e-01   \n",
       "50%    ... -4.260292e-01 -9.945985e-01 -5.167198e-01 -7.953846e-01   \n",
       "75%    ... -4.260292e-01  1.005431e+00 -5.167198e-01  1.257253e+00   \n",
       "max    ...  2.347257e+00  1.005431e+00  1.935285e+00  1.257253e+00   \n",
       "\n",
       "                111           112           113           114           115  \\\n",
       "count  8.124000e+03  8.124000e+03  8.124000e+03  8.124000e+03  8.124000e+03   \n",
       "mean   5.804537e-15  7.013592e-15 -1.310780e-14 -1.259923e-14 -1.837478e-15   \n",
       "std    1.000062e+00  1.000062e+00  1.000062e+00  1.000062e+00  1.000062e+00   \n",
       "min   -5.995313e-01 -3.377834e-01 -1.930879e-01 -4.048418e-01 -2.178236e-01   \n",
       "25%   -5.995313e-01 -3.377834e-01 -1.930879e-01 -4.048418e-01 -2.178236e-01   \n",
       "50%   -5.995313e-01 -3.377834e-01 -1.930879e-01 -4.048418e-01 -2.178236e-01   \n",
       "75%    1.667970e+00 -3.377834e-01 -1.930879e-01 -4.048418e-01 -2.178236e-01   \n",
       "max    1.667970e+00  2.960477e+00  5.178988e+00  2.470101e+00  4.590870e+00   \n",
       "\n",
       "                116  \n",
       "count  8.124000e+03  \n",
       "mean  -1.045247e-14  \n",
       "std    1.000062e+00  \n",
       "min   -1.555820e-01  \n",
       "25%   -1.555820e-01  \n",
       "50%   -1.555820e-01  \n",
       "75%   -1.555820e-01  \n",
       "max    6.427480e+00  \n",
       "\n",
       "[8 rows x 117 columns]"
      ]
     },
     "execution_count": 13,
     "metadata": {},
     "output_type": "execute_result"
    }
   ],
   "source": [
    "from sklearn import preprocessing\n",
    "scaler= preprocessing.StandardScaler()\n",
    "X=scaler.fit_transform(X)\n",
    "X=pd.DataFrame(X)\n",
    "X.describe()"
   ]
  },
  {
   "cell_type": "code",
   "execution_count": 14,
   "metadata": {
    "colab": {
     "base_uri": "https://localhost:8080/"
    },
    "id": "CvLS1nSGOLGB",
    "outputId": "c40c8b14-3727-4567-ce65-4c8ef7d3da89"
   },
   "outputs": [
    {
     "data": {
      "text/plain": [
       "0    p\n",
       "1    e\n",
       "2    e\n",
       "3    p\n",
       "4    e\n",
       "Name: class, dtype: object"
      ]
     },
     "execution_count": 14,
     "metadata": {},
     "output_type": "execute_result"
    }
   ],
   "source": [
    "#Target\n",
    "y.head()"
   ]
  },
  {
   "cell_type": "code",
   "execution_count": 15,
   "metadata": {
    "colab": {
     "base_uri": "https://localhost:8080/"
    },
    "id": "DUehssWUOsMZ",
    "outputId": "890b6dbc-4876-442e-a687-fa05d2b7e0c0"
   },
   "outputs": [
    {
     "data": {
      "text/plain": [
       "e    4208\n",
       "p    3916\n",
       "Name: class, dtype: int64"
      ]
     },
     "execution_count": 15,
     "metadata": {},
     "output_type": "execute_result"
    }
   ],
   "source": [
    "y.value_counts()"
   ]
  },
  {
   "cell_type": "markdown",
   "metadata": {
    "id": "IIKV1MbMOztb"
   },
   "source": [
    "LABEL ENCODING the target (y)"
   ]
  },
  {
   "cell_type": "code",
   "execution_count": 16,
   "metadata": {
    "colab": {
     "base_uri": "https://localhost:8080/",
     "height": 204
    },
    "id": "m05_zqBhO5E3",
    "outputId": "70d19d02-e6ae-47bb-db93-b35f948d51f5"
   },
   "outputs": [
    {
     "data": {
      "text/html": [
       "<div>\n",
       "<style scoped>\n",
       "    .dataframe tbody tr th:only-of-type {\n",
       "        vertical-align: middle;\n",
       "    }\n",
       "\n",
       "    .dataframe tbody tr th {\n",
       "        vertical-align: top;\n",
       "    }\n",
       "\n",
       "    .dataframe thead th {\n",
       "        text-align: right;\n",
       "    }\n",
       "</style>\n",
       "<table border=\"1\" class=\"dataframe\">\n",
       "  <thead>\n",
       "    <tr style=\"text-align: right;\">\n",
       "      <th></th>\n",
       "      <th>0</th>\n",
       "    </tr>\n",
       "  </thead>\n",
       "  <tbody>\n",
       "    <tr>\n",
       "      <th>0</th>\n",
       "      <td>1</td>\n",
       "    </tr>\n",
       "    <tr>\n",
       "      <th>1</th>\n",
       "      <td>0</td>\n",
       "    </tr>\n",
       "    <tr>\n",
       "      <th>2</th>\n",
       "      <td>0</td>\n",
       "    </tr>\n",
       "    <tr>\n",
       "      <th>3</th>\n",
       "      <td>1</td>\n",
       "    </tr>\n",
       "    <tr>\n",
       "      <th>4</th>\n",
       "      <td>0</td>\n",
       "    </tr>\n",
       "  </tbody>\n",
       "</table>\n",
       "</div>"
      ],
      "text/plain": [
       "   0\n",
       "0  1\n",
       "1  0\n",
       "2  0\n",
       "3  1\n",
       "4  0"
      ]
     },
     "execution_count": 16,
     "metadata": {},
     "output_type": "execute_result"
    }
   ],
   "source": [
    "from sklearn.preprocessing import LabelEncoder\n",
    "le = LabelEncoder()\n",
    "y= le.fit_transform(y)\n",
    "y=pd.DataFrame(y)\n",
    "y.head()"
   ]
  },
  {
   "cell_type": "markdown",
   "metadata": {
    "id": "AcUL1d7USk1h"
   },
   "source": [
    "SPLITTING TO TEST AND TRAIN"
   ]
  },
  {
   "cell_type": "code",
   "execution_count": 17,
   "metadata": {
    "id": "ld1_Q_OqSlrJ"
   },
   "outputs": [],
   "source": [
    "from sklearn.model_selection import train_test_split\n",
    "X_train, X_test, y_train, y_test = train_test_split(X, y,random_state=42,test_size=0.3)"
   ]
  },
  {
   "cell_type": "markdown",
   "metadata": {
    "id": "AIkZOTUaSr5X"
   },
   "source": [
    "GAUSSIAN NAIVE BAYES"
   ]
  },
  {
   "cell_type": "code",
   "execution_count": 18,
   "metadata": {
    "colab": {
     "base_uri": "https://localhost:8080/"
    },
    "id": "hxc6z4KLSxNl",
    "outputId": "4a7e6848-ad1c-43a9-e5ed-e330e09ce8d1"
   },
   "outputs": [
    {
     "name": "stderr",
     "output_type": "stream",
     "text": [
      "C:\\Users\\91944\\anaconda3\\lib\\site-packages\\sklearn\\utils\\validation.py:72: DataConversionWarning: A column-vector y was passed when a 1d array was expected. Please change the shape of y to (n_samples, ), for example using ravel().\n",
      "  return f(**kwargs)\n"
     ]
    }
   ],
   "source": [
    "#Fitting Gaussian Naive Bayes to the Training Set:\n",
    "from sklearn.naive_bayes import GaussianNB\n",
    "classifier=GaussianNB()\n",
    "classifier.fit(X_train,y_train)\n",
    "\n",
    "#Prediction of the test set result:\n",
    "y_pred=classifier.predict(X_test)"
   ]
  },
  {
   "cell_type": "markdown",
   "metadata": {
    "id": "zCzOnzR4S7yu"
   },
   "source": [
    "EVALUATING WITH COFUSION MATRIX AND ACCURACY SCORE"
   ]
  },
  {
   "cell_type": "code",
   "execution_count": 19,
   "metadata": {
    "colab": {
     "base_uri": "https://localhost:8080/"
    },
    "id": "bGkdQREyS8ld",
    "outputId": "62601e29-5393-4409-c489-62a0deda355d"
   },
   "outputs": [
    {
     "name": "stdout",
     "output_type": "stream",
     "text": [
      "Accuracy is:  0.9626743232157506\n"
     ]
    },
    {
     "data": {
      "text/plain": [
       "array([[1167,   90],\n",
       "       [   1, 1180]], dtype=int64)"
      ]
     },
     "execution_count": 19,
     "metadata": {},
     "output_type": "execute_result"
    }
   ],
   "source": [
    "#Making confusion matrix & Accuracy\n",
    "from sklearn.metrics import confusion_matrix, accuracy_score,precision_score,recall_score,f1_score\n",
    "print(\"Accuracy is: \",accuracy_score(y_test,y_pred))\n",
    "confusion_matrix(y_test,y_pred)"
   ]
  },
  {
   "cell_type": "markdown",
   "metadata": {
    "id": "ZbQgsk24TFxb"
   },
   "source": [
    "BERNOULLIS NAIVE BAYES"
   ]
  },
  {
   "cell_type": "code",
   "execution_count": 20,
   "metadata": {
    "colab": {
     "base_uri": "https://localhost:8080/"
    },
    "id": "jN8lz2GgTBUT",
    "outputId": "6e6eecea-2676-406d-cd53-93a8a6627ef9"
   },
   "outputs": [
    {
     "name": "stderr",
     "output_type": "stream",
     "text": [
      "C:\\Users\\91944\\anaconda3\\lib\\site-packages\\sklearn\\utils\\validation.py:72: DataConversionWarning: A column-vector y was passed when a 1d array was expected. Please change the shape of y to (n_samples, ), for example using ravel().\n",
      "  return f(**kwargs)\n"
     ]
    }
   ],
   "source": [
    "#Fitting Bernoullis Naive Bayes to the Training Set:\n",
    "from sklearn.naive_bayes import BernoulliNB\n",
    "classifier= BernoulliNB()\n",
    "classifier.fit(X_train,y_train)\n",
    "\n",
    "#Prediction of the test set result:\n",
    "y_pred=classifier.predict(X_test)"
   ]
  },
  {
   "cell_type": "markdown",
   "metadata": {
    "id": "6OdIVo-FTQOk"
   },
   "source": [
    "EVALUATING WITH COFUSION MATRIX AND ACCURACY SCORE"
   ]
  },
  {
   "cell_type": "code",
   "execution_count": 21,
   "metadata": {
    "colab": {
     "base_uri": "https://localhost:8080/"
    },
    "id": "u1ppGnusTQ76",
    "outputId": "1e643df3-38fd-449d-acb0-34ff7ff8ebcf"
   },
   "outputs": [
    {
     "name": "stdout",
     "output_type": "stream",
     "text": [
      "Accuracy is:  0.9343724364232978\n"
     ]
    },
    {
     "data": {
      "text/plain": [
       "array([[1241,   16],\n",
       "       [ 144, 1037]], dtype=int64)"
      ]
     },
     "execution_count": 21,
     "metadata": {},
     "output_type": "execute_result"
    }
   ],
   "source": [
    "#Making confusion matrix & Accuracy\n",
    "from sklearn.metrics import confusion_matrix,accuracy_score\n",
    "print(\"Accuracy is: \",accuracy_score(y_test,y_pred))\n",
    "confusion_matrix(y_test,y_pred)"
   ]
  },
  {
   "cell_type": "markdown",
   "metadata": {
    "id": "SWk7kvsgnS5u"
   },
   "source": [
    "LOGISTIC REGRESSION"
   ]
  },
  {
   "cell_type": "code",
   "execution_count": 22,
   "metadata": {
    "colab": {
     "base_uri": "https://localhost:8080/"
    },
    "id": "qSXVsLVITWmK",
    "outputId": "9608bfd5-f20b-46fe-8f23-c9ac4a5aec63"
   },
   "outputs": [
    {
     "name": "stderr",
     "output_type": "stream",
     "text": [
      "C:\\Users\\91944\\anaconda3\\lib\\site-packages\\sklearn\\utils\\validation.py:72: DataConversionWarning: A column-vector y was passed when a 1d array was expected. Please change the shape of y to (n_samples, ), for example using ravel().\n",
      "  return f(**kwargs)\n"
     ]
    }
   ],
   "source": [
    "#LOGISTIC REGRESSION\n",
    "from sklearn.linear_model import LogisticRegression\n",
    "logit_model = LogisticRegression()\n",
    "logit_model.fit(X_train,y_train)\n",
    "y_pred=logit_model.predict(X_test)"
   ]
  },
  {
   "cell_type": "code",
   "execution_count": 23,
   "metadata": {
    "colab": {
     "base_uri": "https://localhost:8080/"
    },
    "id": "_QVV1zOtTbbO",
    "outputId": "d5134a02-de71-4c8d-f85a-d5dce9c5dae4"
   },
   "outputs": [
    {
     "name": "stdout",
     "output_type": "stream",
     "text": [
      "Accuracy is:  1.0\n"
     ]
    },
    {
     "data": {
      "text/plain": [
       "array([[1257,    0],\n",
       "       [   0, 1181]], dtype=int64)"
      ]
     },
     "execution_count": 23,
     "metadata": {},
     "output_type": "execute_result"
    }
   ],
   "source": [
    "print(\"Accuracy is: \",accuracy_score(y_test,y_pred))\n",
    "confusion_matrix(y_test,y_pred)"
   ]
  },
  {
   "cell_type": "markdown",
   "metadata": {
    "id": "qrzFL7-nno7k"
   },
   "source": [
    "RANDOM FOREST CLASSIFIER"
   ]
  },
  {
   "cell_type": "code",
   "execution_count": 24,
   "metadata": {
    "id": "YNLNm5E2TgMb"
   },
   "outputs": [],
   "source": [
    "#RANDOM FOREST\n",
    "from sklearn.ensemble import RandomForestClassifier\n",
    "rf=RandomForestClassifier()\n",
    "rf.fit(X_train,y_train.values.ravel())\n",
    "y_pred=rf.predict(X_test)"
   ]
  },
  {
   "cell_type": "code",
   "execution_count": 25,
   "metadata": {
    "colab": {
     "base_uri": "https://localhost:8080/"
    },
    "id": "EWc8C_VeTkPo",
    "outputId": "920107a1-341a-41f2-d2fe-bc71aab1b851"
   },
   "outputs": [
    {
     "name": "stdout",
     "output_type": "stream",
     "text": [
      "Accuracy is:  1.0\n"
     ]
    },
    {
     "data": {
      "text/plain": [
       "array([[1257,    0],\n",
       "       [   0, 1181]], dtype=int64)"
      ]
     },
     "execution_count": 25,
     "metadata": {},
     "output_type": "execute_result"
    }
   ],
   "source": [
    "print(\"Accuracy is: \",accuracy_score(y_test,y_pred))\n",
    "confusion_matrix(y_test,y_pred)"
   ]
  },
  {
   "cell_type": "markdown",
   "metadata": {
    "id": "1yWdYro8nvLk"
   },
   "source": [
    "DECISION TREE CLASSIFIER"
   ]
  },
  {
   "cell_type": "code",
   "execution_count": 26,
   "metadata": {
    "id": "Seo9J8MPTnT7"
   },
   "outputs": [],
   "source": [
    "#DECISION TREE\n",
    "from sklearn.tree import DecisionTreeClassifier\n",
    "dt=DecisionTreeClassifier()\n",
    "dt.fit(X_train,y_train)\n",
    "y_pred=dt.predict(X_test)"
   ]
  },
  {
   "cell_type": "code",
   "execution_count": 27,
   "metadata": {
    "colab": {
     "base_uri": "https://localhost:8080/"
    },
    "id": "stSEj9QITsbt",
    "outputId": "ef33b6c0-996f-49aa-f7c4-08c2f16acd01"
   },
   "outputs": [
    {
     "name": "stdout",
     "output_type": "stream",
     "text": [
      "Accuracy is:  1.0\n"
     ]
    },
    {
     "data": {
      "text/plain": [
       "array([[1257,    0],\n",
       "       [   0, 1181]], dtype=int64)"
      ]
     },
     "execution_count": 27,
     "metadata": {},
     "output_type": "execute_result"
    }
   ],
   "source": [
    "print(\"Accuracy is: \",accuracy_score(y_test,y_pred))\n",
    "confusion_matrix(y_test,y_pred)"
   ]
  },
  {
   "cell_type": "markdown",
   "metadata": {
    "id": "fJEH9CTjn_DO"
   },
   "source": [
    "SUPPORT VECTOR MACHINE"
   ]
  },
  {
   "cell_type": "code",
   "execution_count": 28,
   "metadata": {
    "id": "0YMSigerTvPY"
   },
   "outputs": [],
   "source": [
    "# 1. Linear SVM \n",
    "from sklearn.svm import SVC\n",
    "svm_linear= SVC(kernel='linear')\n",
    "svm_linear.fit(X_train, y_train.values.ravel())\n",
    "y_pred = svm_linear.predict(X_test)"
   ]
  },
  {
   "cell_type": "code",
   "execution_count": 29,
   "metadata": {
    "colab": {
     "base_uri": "https://localhost:8080/"
    },
    "id": "IB1eFncyTzC4",
    "outputId": "93ec3776-6dbd-4896-f0e9-7d47f487c7a8"
   },
   "outputs": [
    {
     "name": "stdout",
     "output_type": "stream",
     "text": [
      "Accuracy is:  1.0\n"
     ]
    },
    {
     "data": {
      "text/plain": [
       "array([[1257,    0],\n",
       "       [   0, 1181]], dtype=int64)"
      ]
     },
     "execution_count": 29,
     "metadata": {},
     "output_type": "execute_result"
    }
   ],
   "source": [
    "print(\"Accuracy is: \",accuracy_score(y_test,y_pred))\n",
    "confusion_matrix(y_test,y_pred)"
   ]
  },
  {
   "cell_type": "markdown",
   "metadata": {
    "id": "ocIfphrQoXq3"
   },
   "source": [
    "GRADIENT BOOSTING CLASSIFIER"
   ]
  },
  {
   "cell_type": "code",
   "execution_count": 30,
   "metadata": {
    "colab": {
     "base_uri": "https://localhost:8080/"
    },
    "id": "-p-t_cXCoijJ",
    "outputId": "68ebf48f-18b6-45b9-e90b-9d2e47f93783"
   },
   "outputs": [
    {
     "name": "stderr",
     "output_type": "stream",
     "text": [
      "C:\\Users\\91944\\anaconda3\\lib\\site-packages\\sklearn\\utils\\validation.py:72: DataConversionWarning: A column-vector y was passed when a 1d array was expected. Please change the shape of y to (n_samples, ), for example using ravel().\n",
      "  return f(**kwargs)\n"
     ]
    }
   ],
   "source": [
    "from sklearn.ensemble import GradientBoostingClassifier\n",
    "gb=GradientBoostingClassifier()\n",
    "gb.fit(X_train,y_train)\n",
    "y_pred=gb.predict(X_test)"
   ]
  },
  {
   "cell_type": "markdown",
   "metadata": {},
   "source": [
    "K NEAREST NEIGHBOR"
   ]
  },
  {
   "cell_type": "code",
   "execution_count": 36,
   "metadata": {},
   "outputs": [
    {
     "name": "stderr",
     "output_type": "stream",
     "text": [
      "<ipython-input-36-ba5f8aae63f8>:6: DataConversionWarning: A column-vector y was passed when a 1d array was expected. Please change the shape of y to (n_samples, ), for example using ravel().\n",
      "  classifier.fit(X_train, y_train)\n",
      "<ipython-input-36-ba5f8aae63f8>:6: DataConversionWarning: A column-vector y was passed when a 1d array was expected. Please change the shape of y to (n_samples, ), for example using ravel().\n",
      "  classifier.fit(X_train, y_train)\n",
      "<ipython-input-36-ba5f8aae63f8>:6: DataConversionWarning: A column-vector y was passed when a 1d array was expected. Please change the shape of y to (n_samples, ), for example using ravel().\n",
      "  classifier.fit(X_train, y_train)\n",
      "<ipython-input-36-ba5f8aae63f8>:6: DataConversionWarning: A column-vector y was passed when a 1d array was expected. Please change the shape of y to (n_samples, ), for example using ravel().\n",
      "  classifier.fit(X_train, y_train)\n",
      "<ipython-input-36-ba5f8aae63f8>:6: DataConversionWarning: A column-vector y was passed when a 1d array was expected. Please change the shape of y to (n_samples, ), for example using ravel().\n",
      "  classifier.fit(X_train, y_train)\n",
      "<ipython-input-36-ba5f8aae63f8>:6: DataConversionWarning: A column-vector y was passed when a 1d array was expected. Please change the shape of y to (n_samples, ), for example using ravel().\n",
      "  classifier.fit(X_train, y_train)\n",
      "<ipython-input-36-ba5f8aae63f8>:6: DataConversionWarning: A column-vector y was passed when a 1d array was expected. Please change the shape of y to (n_samples, ), for example using ravel().\n",
      "  classifier.fit(X_train, y_train)\n",
      "<ipython-input-36-ba5f8aae63f8>:6: DataConversionWarning: A column-vector y was passed when a 1d array was expected. Please change the shape of y to (n_samples, ), for example using ravel().\n",
      "  classifier.fit(X_train, y_train)\n",
      "<ipython-input-36-ba5f8aae63f8>:6: DataConversionWarning: A column-vector y was passed when a 1d array was expected. Please change the shape of y to (n_samples, ), for example using ravel().\n",
      "  classifier.fit(X_train, y_train)\n",
      "<ipython-input-36-ba5f8aae63f8>:6: DataConversionWarning: A column-vector y was passed when a 1d array was expected. Please change the shape of y to (n_samples, ), for example using ravel().\n",
      "  classifier.fit(X_train, y_train)\n",
      "<ipython-input-36-ba5f8aae63f8>:6: DataConversionWarning: A column-vector y was passed when a 1d array was expected. Please change the shape of y to (n_samples, ), for example using ravel().\n",
      "  classifier.fit(X_train, y_train)\n"
     ]
    }
   ],
   "source": [
    "from sklearn.neighbors import KNeighborsClassifier\n",
    "acc_values =[]\n",
    "neighbors= np.arange(1,12)\n",
    "for k in neighbors:\n",
    "    classifier = KNeighborsClassifier(n_neighbors= k, metric='minkowski')\n",
    "    classifier.fit(X_train, y_train)\n",
    "    y_pred= classifier.predict(X_test)\n",
    "    acc= accuracy_score(y_test,y_pred)\n",
    "    acc_values.append(acc)"
   ]
  },
  {
   "cell_type": "code",
   "execution_count": 37,
   "metadata": {},
   "outputs": [
    {
     "data": {
      "text/plain": [
       "[1.0,\n",
       " 1.0,\n",
       " 1.0,\n",
       " 0.9995898277276456,\n",
       " 0.9995898277276456,\n",
       " 0.9995898277276456,\n",
       " 0.9995898277276456,\n",
       " 0.9987694831829368,\n",
       " 0.9987694831829368,\n",
       " 0.9987694831829368,\n",
       " 0.9987694831829368]"
      ]
     },
     "execution_count": 37,
     "metadata": {},
     "output_type": "execute_result"
    }
   ],
   "source": [
    "acc_values"
   ]
  },
  {
   "cell_type": "code",
   "execution_count": 38,
   "metadata": {},
   "outputs": [
    {
     "data": {
      "text/plain": [
       "Text(0, 0.5, 'Accuracy')"
      ]
     },
     "execution_count": 38,
     "metadata": {},
     "output_type": "execute_result"
    },
    {
     "data": {
      "image/png": "[encoded data removed]",
      "text/plain": [
       "<Figure size 432x288 with 1 Axes>"
      ]
     },
     "metadata": {
      "needs_background": "light"
     },
     "output_type": "display_data"
    }
   ],
   "source": [
    "plt.plot(neighbors,acc_values, 'o-')\n",
    "plt.xlabel('K value')\n",
    "plt.ylabel('Accuracy')"
   ]
  },
  {
   "cell_type": "code",
   "execution_count": 39,
   "metadata": {},
   "outputs": [
    {
     "name": "stderr",
     "output_type": "stream",
     "text": [
      "<ipython-input-39-10dd3e4d3738>:3: DataConversionWarning: A column-vector y was passed when a 1d array was expected. Please change the shape of y to (n_samples, ), for example using ravel().\n",
      "  classifier.fit(X_train, y_train)\n"
     ]
    }
   ],
   "source": [
    "# Keeping K value as 3\n",
    "classifier = KNeighborsClassifier(n_neighbors= 3, metric='minkowski')\n",
    "classifier.fit(X_train, y_train)\n",
    "y_pred= classifier.predict(X_test)"
   ]
  },
  {
   "cell_type": "code",
   "execution_count": 40,
   "metadata": {},
   "outputs": [
    {
     "name": "stdout",
     "output_type": "stream",
     "text": [
      "Accuracy is:  1.0\n",
      "Precision is:  1.0\n",
      "Recall is:  1.0\n",
      "F1 score is:  1.0\n"
     ]
    },
    {
     "name": "stderr",
     "output_type": "stream",
     "text": [
      "C:\\Users\\91944\\anaconda3\\lib\\site-packages\\sklearn\\metrics\\_classification.py:1267: UserWarning: Note that pos_label (set to 'positive') is ignored when average != 'binary' (got 'macro'). You may use labels=[pos_label] to specify a single positive class.\n",
      "  warnings.warn(\"Note that pos_label (set to %r) is ignored when \"\n"
     ]
    },
    {
     "data": {
      "text/plain": [
       "array([[1257,    0],\n",
       "       [   0, 1181]], dtype=int64)"
      ]
     },
     "execution_count": 40,
     "metadata": {},
     "output_type": "execute_result"
    }
   ],
   "source": [
    "print(\"Accuracy is: \",accuracy_score(y_test,y_pred))\n",
    "print(\"Precision is: \",precision_score(y_test,y_pred,pos_label='positive',average='macro'))\n",
    "print(\"Recall is: \",recall_score(y_test,y_pred,pos_label='positive',average='macro'))\n",
    "print(\"F1 score is: \",f1_score(y_test,y_pred,pos_label='positive',average='macro'))\n",
    "confusion_matrix(y_test,y_pred)"
   ]
  },
  {
   "cell_type": "markdown",
   "metadata": {
    "id": "L0hHhQvso5P_"
   },
   "source": [
    "STEPS:\n",
    "\n",
    "\n",
    "Dataset -mushroom.csv \n",
    "\n",
    "Here the dataset consist of categorical data.Hence the data had to be preprocessed by using  encoding techniques.\n",
    "Encoding was done after splitting the data to features and target.\n",
    "The features were One Hot encoded as the data was nominal.\n",
    "The target was Label Encoded.\n",
    "Standard scaling was applied to the features.\n",
    "The data was then split into testing and training set and the following models were created and evaluated.\n",
    "\n",
    "INFERRENCE:\n",
    "\n",
    "The accuracy obtained for each models is as listed below.\n",
    "\n",
    "Gaussian Naive - 96.26%\n",
    "\n",
    "Bernoullis Naive Bayes - 93.43%\n",
    "\n",
    "Logistic Regression -100%\n",
    "\n",
    "Random Forest Calssifier -100%\n",
    "\n",
    "Decision Tree -100%\n",
    "\n",
    "SVM - 100%\n",
    "\n",
    "Gradint Boosting -100%\n",
    "\n",
    "KNN -100%\n",
    "\n",
    "Here as we can see that apart from the Naive Bayes models all other models gave 100% accuracy. Hence we could use dimensionality reduction method like PCA so as to overcome this.\n",
    "\n",
    "Among the Naive Bayes models, Gaussian Naive Bayes gave a better accuracy score of 96.26% when compared with the Bernoullis Naive Bayes (93.43%)\n"
   ]
  }
 ],
 "metadata": {
  "colab": {
   "collapsed_sections": [],
   "name": "Divya _Case study 11.ipynb",
   "provenance": []
  },
  "kernelspec": {
   "display_name": "Python 3",
   "language": "python",
   "name": "python3"
  },
  "language_info": {
   "codemirror_mode": {
    "name": "ipython",
    "version": 3
   },
   "file_extension": ".py",
   "mimetype": "text/x-python",
   "name": "python",
   "nbconvert_exporter": "python",
   "pygments_lexer": "ipython3",
   "version": "3.8.5"
  }
 },
 "nbformat": 4,
 "nbformat_minor": 1
}
